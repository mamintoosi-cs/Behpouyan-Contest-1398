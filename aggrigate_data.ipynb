{
 "cells": [
  {
   "cell_type": "code",
   "execution_count": 10,
   "metadata": {},
   "outputs": [],
   "source": [
    "import pandas as pd\n",
    "import numpy as np"
   ]
  },
  {
   "cell_type": "code",
   "execution_count": 46,
   "metadata": {},
   "outputs": [],
   "source": [
    "file_name_train_without_sum = 'train_without_sum.xlsx'\n",
    "file_name_train_sum = 'train_sum.xlsx'"
   ]
  },
  {
   "cell_type": "code",
   "execution_count": 47,
   "metadata": {},
   "outputs": [],
   "source": [
    "df_all = pd.concat(pd.read_excel(file_name_train_without_sum, sheetname=None, header=None))\n",
    "df_sum = pd.concat(pd.read_excel(file_name_train_sum, sheetname=None, header=None))"
   ]
  },
  {
   "cell_type": "code",
   "execution_count": 55,
   "metadata": {},
   "outputs": [],
   "source": [
    "df_all[1] = [ str(i).split(' ')[-1]  for i in np.array(df_all[1]) ]  # will handle parsing"
   ]
  },
  {
   "cell_type": "code",
   "execution_count": 56,
   "metadata": {},
   "outputs": [],
   "source": [
    "df_sum[1] = [ str(i).split(' ')[-1]  for i in np.array(df_sum[1]) ]  # will handle parsing"
   ]
  },
  {
   "cell_type": "code",
   "execution_count": 110,
   "metadata": {},
   "outputs": [],
   "source": [
    "#df2 = df_all.groupby([0, 1], as_index = True ,sort = True)[2].agg(['sum', 'mean', 'count', 'min','max'])\n",
    "df2 = df_all.groupby([0, 1], as_index = True ,sort = True)[2].agg('sum')"
   ]
  },
  {
   "cell_type": "code",
   "execution_count": 111,
   "metadata": {},
   "outputs": [
    {
     "data": {
      "text/plain": [
       "140691.87099999996"
      ]
     },
     "execution_count": 111,
     "metadata": {},
     "output_type": "execute_result"
    }
   ],
   "source": [
    "df2[0]"
   ]
  },
  {
   "cell_type": "code",
   "execution_count": 112,
   "metadata": {},
   "outputs": [],
   "source": [
    "summation = np.array(df_sum)\n"
   ]
  },
  {
   "cell_type": "code",
   "execution_count": 113,
   "metadata": {},
   "outputs": [
    {
     "name": "stdout",
     "output_type": "stream",
     "text": [
      "excel  1397/01/02   00:00:00  is  0.0  but calculated data is:  -7797.65\n"
     ]
    }
   ],
   "source": [
    "for i in range(len(summation)):\n",
    "    if abs(summation[i][2] - df2[i]) > 1e-6:\n",
    "        print('excel ' , summation[i][0] , ' ' , summation[i][1] , ' is ' , summation[i][2] , ' but calculated data is: ' , df2[i] )"
   ]
  },
  {
   "cell_type": "code",
   "execution_count": null,
   "metadata": {},
   "outputs": [],
   "source": []
  }
 ],
 "metadata": {
  "kernelspec": {
   "display_name": "Python 3",
   "language": "python",
   "name": "python3"
  },
  "language_info": {
   "codemirror_mode": {
    "name": "ipython",
    "version": 3
   },
   "file_extension": ".py",
   "mimetype": "text/x-python",
   "name": "python",
   "nbconvert_exporter": "python",
   "pygments_lexer": "ipython3",
   "version": "3.6.9"
  }
 },
 "nbformat": 4,
 "nbformat_minor": 2
}
