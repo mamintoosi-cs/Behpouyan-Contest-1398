{
 "cells": [
  {
   "cell_type": "code",
   "execution_count": 1,
   "metadata": {},
   "outputs": [],
   "source": [
    "import pandas as pd\n",
    "import numpy as np"
   ]
  },
  {
   "cell_type": "code",
   "execution_count": 2,
   "metadata": {},
   "outputs": [],
   "source": [
    "df = pd.read_excel('train_sum_agg.xlsx', header=None, names=[\"Date\", \"Time\", \"Energy\"])"
   ]
  },
  {
   "cell_type": "code",
   "execution_count": 3,
   "metadata": {},
   "outputs": [],
   "source": [
    "date = np.array([ i.split('/')  for i in np.array(df['Date']) ])"
   ]
  },
  {
   "cell_type": "code",
   "execution_count": 4,
   "metadata": {},
   "outputs": [],
   "source": [
    "time = np.array([ str(i).split(' ')[-1].split(':')  for i in np.array(df['Time']) ])"
   ]
  },
  {
   "cell_type": "code",
   "execution_count": 5,
   "metadata": {},
   "outputs": [],
   "source": [
    "df['Year'] = [ float(i) for i in date[:,0]]\n",
    "df['Month'] = [ float(i) for i in date[:,1]]\n",
    "df['Day'] = [ float(i) for i in date[:,2]]\n",
    "\n",
    "df['Hour'] = [ float(i) for i in time[:,0]]\n",
    "df['Minute'] = [ float(i) for i in time[:,1]]"
   ]
  },
  {
   "cell_type": "code",
   "execution_count": 6,
   "metadata": {},
   "outputs": [],
   "source": [
    "df['Hour_sin'] = np.sin(df['Hour']*(2.*np.pi/24))\n",
    "df['Hour_cos'] = np.cos(df['Hour']*(2.*np.pi/24))\n",
    "\n",
    "df['Month_sin'] = np.sin((df['Month']-1)*(2.*np.pi/12))\n",
    "df['Month_cos'] = np.cos((df['Month']-1)*(2.*np.pi/12))\n",
    "\n",
    "df['Day_sin'] = np.sin((df['Day']-1)*(2.*np.pi/31))\n",
    "df['Day_cos'] = np.cos((df['Day']-1)*(2.*np.pi/31))"
   ]
  },
  {
   "cell_type": "code",
   "execution_count": 7,
   "metadata": {},
   "outputs": [],
   "source": [
    "df['Value'] = df['Energy']"
   ]
  },
  {
   "cell_type": "code",
   "execution_count": 8,
   "metadata": {},
   "outputs": [],
   "source": [
    "df = df.filter(['Year' , 'Month_sin', 'Month_cos' , 'Day_sin', 'Day_cos' , 'Hour_sin', 'Hour_cos' , 'Value'])"
   ]
  },
  {
   "cell_type": "code",
   "execution_count": 9,
   "metadata": {},
   "outputs": [],
   "source": [
    "columns = df.columns[0 : -1]"
   ]
  },
  {
   "cell_type": "code",
   "execution_count": 10,
   "metadata": {},
   "outputs": [],
   "source": [
    "for col in columns:\n",
    "    mnCol = float(df[col].min())\n",
    "    mxCol = float(df[col].max())\n",
    "    dur = mxCol - mnCol\n",
    "    if dur == 0:\n",
    "        dur = 1\n",
    "    df[col] = [ ((float(u) - mnCol) / dur) for u in np.array(df[col]) ]"
   ]
  },
  {
   "cell_type": "code",
   "execution_count": 11,
   "metadata": {},
   "outputs": [],
   "source": [
    "df.to_excel(r'prepared_train_data.xlsx', index=False, header =True)"
   ]
  },
  {
   "cell_type": "code",
   "execution_count": null,
   "metadata": {},
   "outputs": [],
   "source": []
  }
 ],
 "metadata": {
  "kernelspec": {
   "display_name": "Python 3",
   "language": "python",
   "name": "python3"
  },
  "language_info": {
   "codemirror_mode": {
    "name": "ipython",
    "version": 3
   },
   "file_extension": ".py",
   "mimetype": "text/x-python",
   "name": "python",
   "nbconvert_exporter": "python",
   "pygments_lexer": "ipython3",
   "version": "3.6.9"
  }
 },
 "nbformat": 4,
 "nbformat_minor": 2
}
