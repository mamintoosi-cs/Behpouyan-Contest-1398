{
 "cells": [
  {
   "cell_type": "code",
   "execution_count": 23,
   "metadata": {},
   "outputs": [],
   "source": [
    "import pandas as pd\n",
    "import numpy as np"
   ]
  },
  {
   "cell_type": "code",
   "execution_count": 24,
   "metadata": {},
   "outputs": [],
   "source": [
    "df = pd.read_excel('train_sum_agg.xlsx', header=None, names=[\"Date\", \"Time\", \"Energy\"])"
   ]
  },
  {
   "cell_type": "code",
   "execution_count": 25,
   "metadata": {},
   "outputs": [],
   "source": [
    "date = np.array([ i.split('/')  for i in np.array(df['Date']) ])"
   ]
  },
  {
   "cell_type": "code",
   "execution_count": 26,
   "metadata": {},
   "outputs": [],
   "source": [
    "time = np.array([ str(i).split(' ')[-1].split(':')  for i in np.array(df['Time']) ])"
   ]
  },
  {
   "cell_type": "code",
   "execution_count": 27,
   "metadata": {},
   "outputs": [],
   "source": [
    "df['Year'] = [ float(i) for i in date[:,0]]\n",
    "df['Month'] = [ float(i) for i in date[:,1]]\n",
    "df['Day'] = [ float(i) for i in date[:,2]]\n",
    "\n",
    "df['Hour'] = [ float(i) for i in time[:,0]]\n",
    "df['Minute'] = [ float(i) for i in time[:,1]]"
   ]
  },
  {
   "cell_type": "code",
   "execution_count": 28,
   "metadata": {},
   "outputs": [],
   "source": [
    "df['Hour_sin'] = np.sin(df['Hour']*(2.*np.pi/24))\n",
    "df['Hour_cos'] = np.cos(df['Hour']*(2.*np.pi/24))\n",
    "\n",
    "df['Month_sin'] = np.sin((df['Month']-1)*(2.*np.pi/12))\n",
    "df['Month_cos'] = np.cos((df['Month']-1)*(2.*np.pi/12))\n",
    "\n",
    "df['Day_sin'] = np.sin((df['Day']-1)*(2.*np.pi/31))\n",
    "df['Day_cos'] = np.cos((df['Day']-1)*(2.*np.pi/31))"
   ]
  },
  {
   "cell_type": "code",
   "execution_count": 29,
   "metadata": {},
   "outputs": [],
   "source": [
    "df['Value'] = df['Energy']"
   ]
  },
  {
   "cell_type": "code",
   "execution_count": 30,
   "metadata": {},
   "outputs": [],
   "source": [
    "df = df.filter(['Year' , 'Month_sin', 'Month_cos' , 'Day_sin', 'Day_cos' , 'Hour_sin', 'Hour_cos' , 'Value'])"
   ]
  },
  {
   "cell_type": "code",
   "execution_count": 31,
   "metadata": {},
   "outputs": [
    {
     "name": "stdout",
     "output_type": "stream",
     "text": [
      "mean :  336778.934251831  , std:  119367.49041163233\n"
     ]
    }
   ],
   "source": [
    "mean = df['Value'].mean(axis=0)\n",
    "std = df['Value'].std(axis=0)\n",
    "print(\"mean : \" , mean, \" , std: \", std)"
   ]
  },
  {
   "cell_type": "code",
   "execution_count": 32,
   "metadata": {},
   "outputs": [],
   "source": [
    "df2 = df.loc[ abs (df['Value'] - mean) < 2.5 * std ]"
   ]
  },
  {
   "cell_type": "code",
   "execution_count": 33,
   "metadata": {},
   "outputs": [
    {
     "name": "stdout",
     "output_type": "stream",
     "text": [
      "removed  55 data \n"
     ]
    }
   ],
   "source": [
    "print('removed ' , df.shape[0] - df2.shape[0] , 'data ')\n",
    "df = df2"
   ]
  },
  {
   "cell_type": "code",
   "execution_count": 34,
   "metadata": {},
   "outputs": [],
   "source": [
    "for col in columns:\n",
    "    mnCol = float(df[col].min())\n",
    "    mxCol = float(df[col].max())\n",
    "    dur = mxCol - mnCol\n",
    "    if dur == 0:\n",
    "        dur = 1\n",
    "    df[col] = [ ((float(u) - mnCol) / dur) for u in np.array(df[col]) ]"
   ]
  },
  {
   "cell_type": "code",
   "execution_count": 35,
   "metadata": {},
   "outputs": [],
   "source": [
    "df.to_excel(r'prepared_train_data.xlsx', index=False, header =True)"
   ]
  },
  {
   "cell_type": "code",
   "execution_count": 36,
   "metadata": {},
   "outputs": [
    {
     "data": {
      "text/html": [
       "<div>\n",
       "<style scoped>\n",
       "    .dataframe tbody tr th:only-of-type {\n",
       "        vertical-align: middle;\n",
       "    }\n",
       "\n",
       "    .dataframe tbody tr th {\n",
       "        vertical-align: top;\n",
       "    }\n",
       "\n",
       "    .dataframe thead th {\n",
       "        text-align: right;\n",
       "    }\n",
       "</style>\n",
       "<table border=\"1\" class=\"dataframe\">\n",
       "  <thead>\n",
       "    <tr style=\"text-align: right;\">\n",
       "      <th></th>\n",
       "      <th>Year</th>\n",
       "      <th>Month_sin</th>\n",
       "      <th>Month_cos</th>\n",
       "      <th>Day_sin</th>\n",
       "      <th>Day_cos</th>\n",
       "      <th>Hour_sin</th>\n",
       "      <th>Hour_cos</th>\n",
       "      <th>Value</th>\n",
       "    </tr>\n",
       "  </thead>\n",
       "  <tbody>\n",
       "    <tr>\n",
       "      <th>0</th>\n",
       "      <td>0.0</td>\n",
       "      <td>0.500000</td>\n",
       "      <td>1.00</td>\n",
       "      <td>0.500000</td>\n",
       "      <td>1.000000</td>\n",
       "      <td>0.500000</td>\n",
       "      <td>1.000000</td>\n",
       "      <td>140691.871</td>\n",
       "    </tr>\n",
       "    <tr>\n",
       "      <th>1</th>\n",
       "      <td>0.0</td>\n",
       "      <td>0.500000</td>\n",
       "      <td>1.00</td>\n",
       "      <td>0.500000</td>\n",
       "      <td>1.000000</td>\n",
       "      <td>0.629410</td>\n",
       "      <td>0.982963</td>\n",
       "      <td>141998.723</td>\n",
       "    </tr>\n",
       "    <tr>\n",
       "      <th>2</th>\n",
       "      <td>0.0</td>\n",
       "      <td>0.500000</td>\n",
       "      <td>1.00</td>\n",
       "      <td>0.500000</td>\n",
       "      <td>1.000000</td>\n",
       "      <td>0.750000</td>\n",
       "      <td>0.933013</td>\n",
       "      <td>200350.726</td>\n",
       "    </tr>\n",
       "    <tr>\n",
       "      <th>3</th>\n",
       "      <td>0.0</td>\n",
       "      <td>0.500000</td>\n",
       "      <td>1.00</td>\n",
       "      <td>0.500000</td>\n",
       "      <td>1.000000</td>\n",
       "      <td>0.853553</td>\n",
       "      <td>0.853553</td>\n",
       "      <td>203173.337</td>\n",
       "    </tr>\n",
       "    <tr>\n",
       "      <th>4</th>\n",
       "      <td>0.0</td>\n",
       "      <td>0.500000</td>\n",
       "      <td>1.00</td>\n",
       "      <td>0.500000</td>\n",
       "      <td>1.000000</td>\n",
       "      <td>0.933013</td>\n",
       "      <td>0.750000</td>\n",
       "      <td>203106.594</td>\n",
       "    </tr>\n",
       "    <tr>\n",
       "      <th>...</th>\n",
       "      <td>...</td>\n",
       "      <td>...</td>\n",
       "      <td>...</td>\n",
       "      <td>...</td>\n",
       "      <td>...</td>\n",
       "      <td>...</td>\n",
       "      <td>...</td>\n",
       "      <td>...</td>\n",
       "    </tr>\n",
       "    <tr>\n",
       "      <th>42595</th>\n",
       "      <td>1.0</td>\n",
       "      <td>0.066987</td>\n",
       "      <td>0.75</td>\n",
       "      <td>0.994869</td>\n",
       "      <td>0.574623</td>\n",
       "      <td>0.017037</td>\n",
       "      <td>0.629410</td>\n",
       "      <td>416532.189</td>\n",
       "    </tr>\n",
       "    <tr>\n",
       "      <th>42596</th>\n",
       "      <td>1.0</td>\n",
       "      <td>0.066987</td>\n",
       "      <td>0.75</td>\n",
       "      <td>0.994869</td>\n",
       "      <td>0.574623</td>\n",
       "      <td>0.066987</td>\n",
       "      <td>0.750000</td>\n",
       "      <td>425497.716</td>\n",
       "    </tr>\n",
       "    <tr>\n",
       "      <th>42597</th>\n",
       "      <td>1.0</td>\n",
       "      <td>0.066987</td>\n",
       "      <td>0.75</td>\n",
       "      <td>0.994869</td>\n",
       "      <td>0.574623</td>\n",
       "      <td>0.146447</td>\n",
       "      <td>0.853553</td>\n",
       "      <td>426226.398</td>\n",
       "    </tr>\n",
       "    <tr>\n",
       "      <th>42598</th>\n",
       "      <td>1.0</td>\n",
       "      <td>0.066987</td>\n",
       "      <td>0.75</td>\n",
       "      <td>0.994869</td>\n",
       "      <td>0.574623</td>\n",
       "      <td>0.250000</td>\n",
       "      <td>0.933013</td>\n",
       "      <td>449911.435</td>\n",
       "    </tr>\n",
       "    <tr>\n",
       "      <th>42599</th>\n",
       "      <td>1.0</td>\n",
       "      <td>0.066987</td>\n",
       "      <td>0.75</td>\n",
       "      <td>0.994869</td>\n",
       "      <td>0.574623</td>\n",
       "      <td>0.370590</td>\n",
       "      <td>0.982963</td>\n",
       "      <td>443645.068</td>\n",
       "    </tr>\n",
       "  </tbody>\n",
       "</table>\n",
       "<p>42545 rows × 8 columns</p>\n",
       "</div>"
      ],
      "text/plain": [
       "       Year  Month_sin  Month_cos   Day_sin   Day_cos  Hour_sin  Hour_cos  \\\n",
       "0       0.0   0.500000       1.00  0.500000  1.000000  0.500000  1.000000   \n",
       "1       0.0   0.500000       1.00  0.500000  1.000000  0.629410  0.982963   \n",
       "2       0.0   0.500000       1.00  0.500000  1.000000  0.750000  0.933013   \n",
       "3       0.0   0.500000       1.00  0.500000  1.000000  0.853553  0.853553   \n",
       "4       0.0   0.500000       1.00  0.500000  1.000000  0.933013  0.750000   \n",
       "...     ...        ...        ...       ...       ...       ...       ...   \n",
       "42595   1.0   0.066987       0.75  0.994869  0.574623  0.017037  0.629410   \n",
       "42596   1.0   0.066987       0.75  0.994869  0.574623  0.066987  0.750000   \n",
       "42597   1.0   0.066987       0.75  0.994869  0.574623  0.146447  0.853553   \n",
       "42598   1.0   0.066987       0.75  0.994869  0.574623  0.250000  0.933013   \n",
       "42599   1.0   0.066987       0.75  0.994869  0.574623  0.370590  0.982963   \n",
       "\n",
       "            Value  \n",
       "0      140691.871  \n",
       "1      141998.723  \n",
       "2      200350.726  \n",
       "3      203173.337  \n",
       "4      203106.594  \n",
       "...           ...  \n",
       "42595  416532.189  \n",
       "42596  425497.716  \n",
       "42597  426226.398  \n",
       "42598  449911.435  \n",
       "42599  443645.068  \n",
       "\n",
       "[42545 rows x 8 columns]"
      ]
     },
     "execution_count": 36,
     "metadata": {},
     "output_type": "execute_result"
    }
   ],
   "source": [
    "df"
   ]
  }
 ],
 "metadata": {
  "kernelspec": {
   "display_name": "Python 3",
   "language": "python",
   "name": "python3"
  },
  "language_info": {
   "codemirror_mode": {
    "name": "ipython",
    "version": 3
   },
   "file_extension": ".py",
   "mimetype": "text/x-python",
   "name": "python",
   "nbconvert_exporter": "python",
   "pygments_lexer": "ipython3",
   "version": "3.6.9"
  }
 },
 "nbformat": 4,
 "nbformat_minor": 2
}
