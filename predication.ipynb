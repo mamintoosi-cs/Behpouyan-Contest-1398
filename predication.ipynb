{
 "cells": [
  {
   "cell_type": "code",
   "execution_count": 1,
   "metadata": {},
   "outputs": [
    {
     "name": "stderr",
     "output_type": "stream",
     "text": [
      "Using TensorFlow backend.\n"
     ]
    }
   ],
   "source": [
    "import pandas as pd\n",
    "import numpy as np\n",
    "import keras\n",
    "from keras import models\n",
    "from keras import layers\n",
    "from sklearn.model_selection import train_test_split"
   ]
  },
  {
   "cell_type": "code",
   "execution_count": 2,
   "metadata": {},
   "outputs": [],
   "source": [
    "df = pd.read_excel('prepared_train_data.xlsx')"
   ]
  },
  {
   "cell_type": "code",
   "execution_count": 25,
   "metadata": {},
   "outputs": [],
   "source": [
    "train_precent = 0.85\n",
    "test_precent = 1 - train_precent"
   ]
  },
  {
   "cell_type": "code",
   "execution_count": 26,
   "metadata": {},
   "outputs": [],
   "source": [
    "train, test = train_test_split(df, test_size=test_precent)"
   ]
  },
  {
   "cell_type": "code",
   "execution_count": 27,
   "metadata": {},
   "outputs": [
    {
     "data": {
      "text/plain": [
       "((36163, 8), (6382, 8))"
      ]
     },
     "execution_count": 27,
     "metadata": {},
     "output_type": "execute_result"
    }
   ],
   "source": [
    "train.shape , test.shape"
   ]
  },
  {
   "cell_type": "code",
   "execution_count": 28,
   "metadata": {},
   "outputs": [],
   "source": [
    "train_data =  np.array(train.filter(df.columns[0:-1]))\n",
    "train_targets =  np.array(train['Value'])"
   ]
  },
  {
   "cell_type": "code",
   "execution_count": 29,
   "metadata": {},
   "outputs": [],
   "source": [
    "test_data = np.array(test.filter(df.columns[0:-1]))\n",
    "test_targets = np.array(test['Value'])"
   ]
  },
  {
   "cell_type": "code",
   "execution_count": 30,
   "metadata": {},
   "outputs": [],
   "source": [
    "# Because we will need to instantiate\n",
    "# the same model multiple times,\n",
    "# we use a function to construct it.\n",
    "model = models.Sequential()\n",
    "model.add(layers.Dense(128, activation='relu',\n",
    "                       input_shape=(train_data.shape[-1],)))\n",
    "model.add(layers.Dense(128, activation='relu'))\n",
    "model.add(layers.Dense(1))\n",
    "model.compile(optimizer='nadam', loss='mae', metrics=['mae'])\n",
    "# Train the model (in silent mode, verbose=0)"
   ]
  },
  {
   "cell_type": "code",
   "execution_count": 31,
   "metadata": {},
   "outputs": [
    {
     "name": "stdout",
     "output_type": "stream",
     "text": [
      "Epoch 1/20\n",
      "36163/36163 [==============================] - 1s 20us/step - loss: 324477.1059 - mean_absolute_error: 324477.1059\n",
      "Epoch 2/20\n",
      "36163/36163 [==============================] - 1s 15us/step - loss: 172693.7825 - mean_absolute_error: 172693.7825\n",
      "Epoch 3/20\n",
      "36163/36163 [==============================] - 1s 15us/step - loss: 86357.5227 - mean_absolute_error: 86357.5227\n",
      "Epoch 4/20\n",
      "36163/36163 [==============================] - 1s 16us/step - loss: 79514.6385 - mean_absolute_error: 79514.6385\n",
      "Epoch 5/20\n",
      "36163/36163 [==============================] - 1s 15us/step - loss: 71859.0583 - mean_absolute_error: 71859.0583\n",
      "Epoch 6/20\n",
      "36163/36163 [==============================] - 1s 15us/step - loss: 63113.0336 - mean_absolute_error: 63113.0336\n",
      "Epoch 7/20\n",
      "36163/36163 [==============================] - 1s 15us/step - loss: 54294.9367 - mean_absolute_error: 54294.9367\n",
      "Epoch 8/20\n",
      "36163/36163 [==============================] - 1s 14us/step - loss: 48148.6031 - mean_absolute_error: 48148.6031\n",
      "Epoch 9/20\n",
      "36163/36163 [==============================] - 1s 15us/step - loss: 45688.8128 - mean_absolute_error: 45688.8128\n",
      "Epoch 10/20\n",
      "36163/36163 [==============================] - 1s 15us/step - loss: 44979.0293 - mean_absolute_error: 44979.0293\n",
      "Epoch 11/20\n",
      "36163/36163 [==============================] - 1s 14us/step - loss: 44752.4588 - mean_absolute_error: 44752.4588\n",
      "Epoch 12/20\n",
      "36163/36163 [==============================] - 1s 15us/step - loss: 44649.2751 - mean_absolute_error: 44649.2751\n",
      "Epoch 13/20\n",
      "36163/36163 [==============================] - 1s 15us/step - loss: 44597.7088 - mean_absolute_error: 44597.7088\n",
      "Epoch 14/20\n",
      "36163/36163 [==============================] - 1s 15us/step - loss: 44570.6281 - mean_absolute_error: 44570.6281\n",
      "Epoch 15/20\n",
      "36163/36163 [==============================] - 1s 15us/step - loss: 44547.2151 - mean_absolute_error: 44547.2151\n",
      "Epoch 16/20\n",
      "36163/36163 [==============================] - 1s 15us/step - loss: 44537.4672 - mean_absolute_error: 44537.4672\n",
      "Epoch 17/20\n",
      "36163/36163 [==============================] - 1s 16us/step - loss: 44531.5556 - mean_absolute_error: 44531.5556\n",
      "Epoch 18/20\n",
      "36163/36163 [==============================] - 1s 16us/step - loss: 44528.3511 - mean_absolute_error: 44528.3511\n",
      "Epoch 19/20\n",
      "36163/36163 [==============================] - 1s 17us/step - loss: 44531.5233 - mean_absolute_error: 44531.5233\n",
      "Epoch 20/20\n",
      "36163/36163 [==============================] - 1s 15us/step - loss: 44533.0219 - mean_absolute_error: 44533.0219\n"
     ]
    },
    {
     "data": {
      "text/plain": [
       "<keras.callbacks.History at 0x7fd129dbdc50>"
      ]
     },
     "execution_count": 31,
     "metadata": {},
     "output_type": "execute_result"
    }
   ],
   "source": [
    "model.fit(train_data, train_targets,\n",
    "          epochs=20, batch_size=128)\n",
    "# Evaluate the model on the validation data"
   ]
  },
  {
   "cell_type": "code",
   "execution_count": 32,
   "metadata": {},
   "outputs": [
    {
     "data": {
      "text/plain": [
       "array([0.25      , 0.25      , 0.0669873 , 0.64987392, 0.02041741,\n",
       "       0.14644661, 0.14644661])"
      ]
     },
     "execution_count": 32,
     "metadata": {},
     "output_type": "execute_result"
    }
   ],
   "source": [
    "test_data[0]"
   ]
  },
  {
   "cell_type": "code",
   "execution_count": 33,
   "metadata": {},
   "outputs": [],
   "source": [
    "result_from_model = model.predict(test_data)\n"
   ]
  },
  {
   "cell_type": "code",
   "execution_count": 34,
   "metadata": {},
   "outputs": [],
   "source": [
    "error = 0\n",
    "for i in range(len(result_from_model)):\n",
    "    cur = abs(result_from_model[i][0] - test_targets[i]) * 100 / test_targets[i]\n",
    "    error = error + cur"
   ]
  },
  {
   "cell_type": "code",
   "execution_count": 35,
   "metadata": {},
   "outputs": [
    {
     "data": {
      "text/plain": [
       "16.6796106445825"
      ]
     },
     "execution_count": 35,
     "metadata": {},
     "output_type": "execute_result"
    }
   ],
   "source": [
    "error / len(result_from_model)"
   ]
  },
  {
   "cell_type": "code",
   "execution_count": null,
   "metadata": {},
   "outputs": [],
   "source": []
  }
 ],
 "metadata": {
  "kernelspec": {
   "display_name": "Python 3",
   "language": "python",
   "name": "python3"
  },
  "language_info": {
   "codemirror_mode": {
    "name": "ipython",
    "version": 3
   },
   "file_extension": ".py",
   "mimetype": "text/x-python",
   "name": "python",
   "nbconvert_exporter": "python",
   "pygments_lexer": "ipython3",
   "version": "3.5.2"
  }
 },
 "nbformat": 4,
 "nbformat_minor": 2
}
